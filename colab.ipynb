{
 "cells": [
  {
   "cell_type": "code",
   "execution_count": 1,
   "metadata": {
    "id": "458aUugKRDVW",
    "colab_type": "code",
    "colab": {
     "autoexec": {
      "startup": false,
      "wait_interval": 0.0
     },
     "output_extras": [
      {
       "item_id": 18.0
      },
      {
       "item_id": 34.0
      },
      {
       "item_id": 47.0
      }
     ],
     "base_uri": "https://localhost:8080/",
     "height": 2757.0
    },
    "outputId": "93d6a5db-8c70-476f-e70c-33a9bc61a0e8",
    "executionInfo": {
     "status": "ok",
     "timestamp": 1.520054982016E12,
     "user_tz": -330.0,
     "elapsed": 50716.0,
     "user": {
      "displayName": "Trijeet Modak",
      "photoUrl": "//lh5.googleusercontent.com/-qIbE8Z4Hng0/AAAAAAAAAAI/AAAAAAAAAf8/jYgwkubgbYk/s50-c-k-no/photo.jpg",
      "userId": "102805649547285129830"
     }
    }
   },
   "outputs": [
    {
     "name": "stdout",
     "output_type": "stream",
     "text": [
      "Cloning into 'CarND-Behavioral-Cloning-P3'...\n",
      "remote: Counting objects: 86, done.\u001b[K\n",
      "remote: Total 86 (delta 0), reused 0 (delta 0), pack-reused 86\u001b[K\n",
      "Unpacking objects: 100% (86/86), done.\n",
      "Collecting opencv-python\n",
      "  Downloading opencv_python-3.4.0.12-cp36-cp36m-manylinux1_x86_64.whl (24.9MB)\n",
      "\u001b[K    100% |████████████████████████████████| 24.9MB 67kB/s \n",
      "\u001b[?25hRequirement already satisfied: numpy>=1.11.3 in /usr/local/lib/python3.6/dist-packages (from opencv-python)\n",
      "Installing collected packages: opencv-python\n",
      "Successfully installed opencv-python-3.4.0.12\n",
      "Hit:1 http://archive.ubuntu.com/ubuntu artful InRelease\n",
      "Get:2 http://security.ubuntu.com/ubuntu artful-security InRelease [78.6 kB]\n",
      "Get:3 http://archive.ubuntu.com/ubuntu artful-updates InRelease [78.6 kB]\n",
      "Get:4 http://security.ubuntu.com/ubuntu artful-security/universe Sources [12.0 kB]\n",
      "Get:5 http://archive.ubuntu.com/ubuntu artful-backports InRelease [72.2 kB]\n",
      "Get:6 http://security.ubuntu.com/ubuntu artful-security/universe amd64 Packages [55.0 kB]\n",
      "Get:7 http://security.ubuntu.com/ubuntu artful-security/main amd64 Packages [171 kB]\n",
      "Get:8 http://archive.ubuntu.com/ubuntu artful-updates/universe Sources [29.3 kB]\n",
      "Get:9 http://archive.ubuntu.com/ubuntu artful-updates/universe amd64 Packages [110 kB]\n",
      "Get:10 http://archive.ubuntu.com/ubuntu artful-updates/main amd64 Packages [277 kB]\n",
      "Get:11 http://archive.ubuntu.com/ubuntu artful-backports/universe amd64 Packages [3,587 B]\n",
      "Fetched 887 kB in 0s (896 kB/s)\n",
      "Reading package lists... Done\n",
      "Building dependency tree       \n",
      "Reading state information... Done\n",
      "36 packages can be upgraded. Run 'apt list --upgradable' to see them.\n",
      "Reading package lists... Done\n",
      "Building dependency tree       \n",
      "Reading state information... Done\n",
      "The following additional packages will be installed:\n",
      "  libice6 x11-common\n",
      "The following NEW packages will be installed:\n",
      "  libice6 libsm6 libxext6 x11-common\n",
      "0 upgraded, 4 newly installed, 0 to remove and 36 not upgraded.\n",
      "Need to get 108 kB of archives.\n",
      "After this operation, 626 kB of additional disk space will be used.\n",
      "Get:1 http://archive.ubuntu.com/ubuntu artful/main amd64 libxext6 amd64 2:1.3.3-1 [29.4 kB]\n",
      "Get:2 http://archive.ubuntu.com/ubuntu artful/main amd64 x11-common all 1:7.7+19ubuntu3 [22.0 kB]\n",
      "Get:3 http://archive.ubuntu.com/ubuntu artful/main amd64 libice6 amd64 2:1.0.9-2 [40.2 kB]\n",
      "Get:4 http://archive.ubuntu.com/ubuntu artful/main amd64 libsm6 amd64 2:1.2.2-1 [15.8 kB]\n",
      "Fetched 108 kB in 0s (205 kB/s)\n",
      "\n",
      "\u001b7\u001b[0;23r\u001b8\u001b[1ASelecting previously unselected package libxext6:amd64.\n",
      "(Reading database ... 16669 files and directories currently installed.)\n",
      "Preparing to unpack .../libxext6_2%3a1.3.3-1_amd64.deb ...\n",
      "\u001b7\u001b[24;0f\u001b[42m\u001b[30mProgress: [  0%]\u001b[49m\u001b[39m [..........................................................] \u001b8\u001b7\u001b[24;0f\u001b[42m\u001b[30mProgress: [  4%]\u001b[49m\u001b[39m [##........................................................] \u001b8Unpacking libxext6:amd64 (2:1.3.3-1) ...\n",
      "\u001b7\u001b[24;0f\u001b[42m\u001b[30mProgress: [  9%]\u001b[49m\u001b[39m [#####.....................................................] \u001b8\u001b7\u001b[24;0f\u001b[42m\u001b[30mProgress: [ 14%]\u001b[49m\u001b[39m [########..................................................] \u001b8Selecting previously unselected package x11-common.\n",
      "Preparing to unpack .../x11-common_1%3a7.7+19ubuntu3_all.deb ...\n",
      "\u001b7\u001b[24;0f\u001b[42m\u001b[30mProgress: [ 19%]\u001b[49m\u001b[39m [###########...............................................] \u001b8Unpacking x11-common (1:7.7+19ubuntu3) ...\n",
      "\u001b7\u001b[24;0f\u001b[42m\u001b[30mProgress: [ 23%]\u001b[49m\u001b[39m [#############.............................................] \u001b8\u001b7\u001b[24;0f\u001b[42m\u001b[30mProgress: [ 28%]\u001b[49m\u001b[39m [################..........................................] \u001b8Selecting previously unselected package libice6:amd64.\n",
      "Preparing to unpack .../libice6_2%3a1.0.9-2_amd64.deb ...\n",
      "\u001b7\u001b[24;0f\u001b[42m\u001b[30mProgress: [ 33%]\u001b[49m\u001b[39m [###################.......................................] \u001b8Unpacking libice6:amd64 (2:1.0.9-2) ...\n",
      "\u001b7\u001b[24;0f\u001b[42m\u001b[30mProgress: [ 38%]\u001b[49m\u001b[39m [######################....................................] \u001b8\u001b7\u001b[24;0f\u001b[42m\u001b[30mProgress: [ 42%]\u001b[49m\u001b[39m [########################..................................] \u001b8Selecting previously unselected package libsm6:amd64.\n",
      "Preparing to unpack .../libsm6_2%3a1.2.2-1_amd64.deb ...\n",
      "\u001b7\u001b[24;0f\u001b[42m\u001b[30mProgress: [ 47%]\u001b[49m\u001b[39m [###########################...............................] \u001b8Unpacking libsm6:amd64 (2:1.2.2-1) ...\n",
      "\u001b7\u001b[24;0f\u001b[42m\u001b[30mProgress: [ 52%]\u001b[49m\u001b[39m [##############################............................] \u001b8\u001b7\u001b[24;0f\u001b[42m\u001b[30mProgress: [ 57%]\u001b[49m\u001b[39m [#################################.........................] \u001b8Setting up libxext6:amd64 (2:1.3.3-1) ...\n",
      "\u001b7\u001b[24;0f\u001b[42m\u001b[30mProgress: [ 61%]\u001b[49m\u001b[39m [###################################.......................] \u001b8\u001b7\u001b[24;0f\u001b[42m\u001b[30mProgress: [ 66%]\u001b[49m\u001b[39m [######################################....................] \u001b8Processing triggers for libc-bin (2.26-0ubuntu2.1) ...\n",
      "Setting up x11-common (1:7.7+19ubuntu3) ...\n",
      "\u001b7\u001b[24;0f\u001b[42m\u001b[30mProgress: [ 71%]\u001b[49m\u001b[39m [#########################################.................] \u001b8update-rc.d: warning: start and stop actions are no longer supported; falling back to defaults\n",
      "invoke-rc.d: could not determine current runlevel\n"
     ]
    },
    {
     "name": "stdout",
     "output_type": "stream",
     "text": [
      "invoke-rc.d: policy-rc.d denied execution of start.\r\n",
      "\u001b7\u001b[24;0f\u001b[42m\u001b[30mProgress: [ 76%]\u001b[49m\u001b[39m [############################################..............] \u001b8Setting up libice6:amd64 (2:1.0.9-2) ...\r\n",
      "\u001b7\u001b[24;0f\u001b[42m\u001b[30mProgress: [ 80%]\u001b[49m\u001b[39m [##############################################............] \u001b8\u001b7\u001b[24;0f\u001b[42m\u001b[30mProgress: [ 85%]\u001b[49m\u001b[39m [#################################################.........] \u001b8Setting up libsm6:amd64 (2:1.2.2-1) ...\r\n",
      "\u001b7\u001b[24;0f\u001b[42m\u001b[30mProgress: [ 90%]\u001b[49m\u001b[39m [####################################################......] \u001b8\u001b7\u001b[24;0f\u001b[42m\u001b[30mProgress: [ 95%]\u001b[49m\u001b[39m [#######################################################...] \u001b8Processing triggers for libc-bin (2.26-0ubuntu2.1) ...\n",
      "\n",
      "\u001b7\u001b[0;24r\u001b8\u001b[1A\u001b[JCollecting moviepy\n",
      "  Downloading moviepy-0.2.3.2-py2.py3-none-any.whl (122kB)\n",
      "\u001b[K    100% |████████████████████████████████| 133kB 3.1MB/s \n",
      "\u001b[?25hCollecting decorator==4.0.11 (from moviepy)\n",
      "  Downloading decorator-4.0.11-py2.py3-none-any.whl\n",
      "Collecting tqdm==4.11.2 (from moviepy)\n",
      "  Downloading tqdm-4.11.2-py2.py3-none-any.whl (46kB)\n",
      "\u001b[K    100% |████████████████████████████████| 51kB 5.1MB/s \n",
      "\u001b[?25hRequirement already satisfied: numpy in /usr/local/lib/python3.6/dist-packages (from moviepy)\n",
      "Collecting imageio==2.1.2 (from moviepy)\n",
      "  Downloading imageio-2.1.2.zip (3.3MB)\n",
      "\u001b[K    100% |████████████████████████████████| 3.3MB 462kB/s \n",
      "\u001b[?25hRequirement already satisfied: pillow in /usr/local/lib/python3.6/dist-packages (from imageio==2.1.2->moviepy)\n",
      "Requirement already satisfied: olefile in /usr/local/lib/python3.6/dist-packages (from pillow->imageio==2.1.2->moviepy)\n",
      "Building wheels for collected packages: imageio\n",
      "  Running setup.py bdist_wheel for imageio ... \u001b[?25l-\b \b\\\b \b|\b \bdone\n",
      "\u001b[?25h  Stored in directory: /content/.cache/pip/wheels/47/a7/c8/2d9d42949793f2ad22a9f7974be42b34f77b97d28aa206cf94\n",
      "Successfully built imageio\n",
      "Installing collected packages: decorator, tqdm, imageio, moviepy\n",
      "  Found existing installation: decorator 4.2.1\n",
      "    Uninstalling decorator-4.2.1:\n",
      "      Successfully uninstalled decorator-4.2.1\n",
      "  Found existing installation: imageio 2.2.0\n",
      "    Uninstalling imageio-2.2.0:\n",
      "      Successfully uninstalled imageio-2.2.0\n",
      "Successfully installed decorator-4.0.11 imageio-2.1.2 moviepy-0.2.3.2 tqdm-4.11.2\n",
      "Imageio: 'ffmpeg.linux64' was not found on your computer; downloading it now.\n",
      "Try 1. Download from https://github.com/imageio/imageio-binaries/raw/master/ffmpeg/ffmpeg.linux64 (27.2 MB)\n",
      "Downloading: 8192/28549024 bytes (0.0%)\b\b\b\b\b\b\b\b\b\b\b\b\b\b\b\b\b\b\b\b\b\b\b\b\b\b679936/28549024 bytes (2.4%)\b\b\b\b\b\b\b\b\b\b\b\b\b\b\b\b\b\b\b\b\b\b\b\b\b\b\b\b1949696/28549024 bytes (6.8%)\b\b\b\b\b\b\b\b\b\b\b\b\b\b\b\b\b\b\b\b\b\b\b\b\b\b\b\b\b3686400/28549024 bytes (12.9%)\b\b\b\b\b\b\b\b\b\b\b\b\b\b\b\b\b\b\b\b\b\b\b\b\b\b\b\b\b\b6307840/28549024 bytes (22.1%)\b\b\b\b\b\b\b\b\b\b\b\b\b\b\b\b\b\b\b\b\b\b\b\b\b\b\b\b\b\b9969664/28549024 bytes (34.9%)\b\b\b\b\b\b\b\b\b\b\b\b\b\b\b\b\b\b\b\b\b\b\b\b\b\b\b\b\b\b13910016/28549024 bytes (48.7%)\b\b\b\b\b\b\b\b\b\b\b\b\b\b\b\b\b\b\b\b\b\b\b\b\b\b\b\b\b\b\b17891328/28549024 bytes (62.7%)\b\b\b\b\b\b\b\b\b\b\b\b\b\b\b\b\b\b\b\b\b\b\b\b\b\b\b\b\b\b\b21839872/28549024 bytes (76.5%)\b\b\b\b\b\b\b\b\b\b\b\b\b\b\b\b\b\b\b\b\b\b\b\b\b\b\b\b\b\b\b25468928/28549024 bytes (89.2%)\b\b\b\b\b\b\b\b\b\b\b\b\b\b\b\b\b\b\b\b\b\b\b\b\b\b\b\b\b\b\b28549024/28549024 bytes (100.0%)\n",
      "  Done\n",
      "File saved as /content/.imageio/ffmpeg/ffmpeg.linux64.\n",
      "Collecting flask-socketio\n",
      "  Downloading Flask_SocketIO-2.9.4-py2.py3-none-any.whl\n",
      "Collecting Flask>=0.9 (from flask-socketio)\n",
      "  Downloading Flask-0.12.2-py2.py3-none-any.whl (83kB)\n",
      "\u001b[K    100% |████████████████████████████████| 92kB 3.4MB/s \n",
      "\u001b[?25hCollecting python-socketio>=1.6.1 (from flask-socketio)\n"
     ]
    },
    {
     "name": "stdout",
     "output_type": "stream",
     "text": [
      "  Downloading python_socketio-1.8.4-py2.py3-none-any.whl\n",
      "Collecting click>=2.0 (from Flask>=0.9->flask-socketio)\n",
      "  Downloading click-6.7-py2.py3-none-any.whl (71kB)\n",
      "\u001b[K    100% |████████████████████████████████| 71kB 7.2MB/s \n",
      "\u001b[?25hRequirement already satisfied: Werkzeug>=0.7 in /usr/local/lib/python3.6/dist-packages (from Flask>=0.9->flask-socketio)\n",
      "Collecting itsdangerous>=0.21 (from Flask>=0.9->flask-socketio)\n",
      "  Downloading itsdangerous-0.24.tar.gz (46kB)\n",
      "\u001b[K    100% |████████████████████████████████| 51kB 8.8MB/s \n",
      "\u001b[?25hRequirement already satisfied: Jinja2>=2.4 in /usr/local/lib/python3.6/dist-packages (from Flask>=0.9->flask-socketio)\n",
      "Collecting python-engineio>=1.2.1 (from python-socketio>=1.6.1->flask-socketio)\n",
      "  Downloading python_engineio-2.0.2-py2.py3-none-any.whl\n",
      "Requirement already satisfied: six>=1.9.0 in /usr/local/lib/python3.6/dist-packages (from python-socketio>=1.6.1->flask-socketio)\n",
      "Requirement already satisfied: MarkupSafe in /usr/local/lib/python3.6/dist-packages (from Jinja2>=2.4->Flask>=0.9->flask-socketio)\n",
      "Building wheels for collected packages: itsdangerous\n",
      "  Running setup.py bdist_wheel for itsdangerous ... \u001b[?25l-\b \bdone\n",
      "\u001b[?25h  Stored in directory: /content/.cache/pip/wheels/fc/a8/66/24d655233c757e178d45dea2de22a04c6d92766abfb741129a\n",
      "Successfully built itsdangerous\n",
      "Installing collected packages: click, itsdangerous, Flask, python-engineio, python-socketio, flask-socketio\n",
      "Successfully installed Flask-0.12.2 click-6.7 flask-socketio-2.9.4 itsdangerous-0.24 python-engineio-2.0.2 python-socketio-1.8.4\n",
      "Collecting eventlet\n",
      "  Downloading eventlet-0.22.1-py2.py3-none-any.whl (409kB)\n",
      "\u001b[K    100% |████████████████████████████████| 409kB 2.2MB/s \n",
      "\u001b[?25hCollecting greenlet>=0.3 (from eventlet)\n",
      "  Downloading greenlet-0.4.13-cp36-cp36m-manylinux1_x86_64.whl (43kB)\n",
      "\u001b[K    100% |████████████████████████████████| 51kB 7.4MB/s \n",
      "\u001b[?25hInstalling collected packages: greenlet, eventlet\n",
      "Successfully installed eventlet-0.22.1 greenlet-0.4.13\n",
      "Reading package lists... Done\n",
      "Building dependency tree       \n",
      "Reading state information... Done\n",
      "The following NEW packages will be installed:\n",
      "  netbase\n",
      "0 upgraded, 1 newly installed, 0 to remove and 36 not upgraded.\n",
      "Need to get 12.7 kB of archives.\n",
      "After this operation, 45.1 kB of additional disk space will be used.\n",
      "Get:1 http://archive.ubuntu.com/ubuntu artful/main amd64 netbase all 5.4 [12.7 kB]\n",
      "Fetched 12.7 kB in 0s (71.6 kB/s)\n",
      "Selecting previously unselected package netbase.\n",
      "(Reading database ... 16712 files and directories currently installed.)\n",
      "Preparing to unpack .../archives/netbase_5.4_all.deb ...\n",
      "Unpacking netbase (5.4) ...\n",
      "Setting up netbase (5.4) ...\n",
      "\n",
      "Configuration file '/etc/protocols', does not exist on system.\n",
      "Installing new config file as you requested.\n",
      "\n",
      "Configuration file '/etc/rpc', does not exist on system.\n",
      "Installing new config file as you requested.\n",
      "\n",
      "Configuration file '/etc/services', does not exist on system.\n",
      "Installing new config file as you requested.\n"
     ]
    }
   ],
   "source": [
    "## PREREQUISITE FOR RUNNUNG ON GOOGLE COLAB\n",
    "\n",
    "from urllib.request import urlretrieve\n",
    "from zipfile import ZipFile\n",
    "import os\n",
    "\n",
    "# !rm -rf CarND-Behavioral-Cloning-P3/\n",
    "\n",
    "if (\"CarND-Behavioral-Cloning-P3\" not in os.listdir(\".\")):\n",
    "  !git clone https://github.com/udacity/CarND-Behavioral-Cloning-P3.git\n",
    "  !pip install opencv-python\n",
    "  !apt update && apt install -y libsm6 libxext6\n",
    "  !pip install -q keras\n",
    "  urlretrieve(\"https://d17h27t6h515a5.cloudfront.net/topher/2016/December/584f6edd_data/data.zip\",\"./CarND-Behavioral-Cloning-P3/data.zip\")\n",
    "  with ZipFile(\"./CarND-Behavioral-Cloning-P3/data.zip\") as zipf:\n",
    "    zipf.extractall(\"./CarND-Behavioral-Cloning-P3/\")\n",
    "  !pip install -q imageio       \n",
    "  !pip install moviepy\n",
    "  !python -c \"exec(\\\"import imageio\\\\nimageio.plugins.ffmpeg.download()\\\")\"\n",
    "  !pip install flask-socketio\n",
    "  !pip install eventlet\n",
    "  !apt-get -o Dpkg::Options::=\"--force-confmiss\" install --reinstall netbase"
   ]
  },
  {
   "cell_type": "code",
   "execution_count": 0,
   "metadata": {
    "id": "Pf63bXclRakB",
    "colab_type": "code",
    "colab": {
     "autoexec": {
      "startup": false,
      "wait_interval": 0.0
     }
    }
   },
   "outputs": [],
   "source": [
    "import csv\n",
    "import cv2\n",
    "import numpy as np\n",
    "from sklearn.utils import shuffle\n",
    "from sklearn.model_selection import train_test_split\n",
    "import gc\n",
    "import random\n",
    "\n",
    "\n",
    "class DataSet:\n",
    "    lines_train = None\n",
    "    lines_test = None\n",
    "\n",
    "    gen_train = None\n",
    "    gen_test = None\n",
    "\n",
    "    train_size = None\n",
    "    test_size = None\n",
    "\n",
    "    image_shape = None\n",
    "\n",
    "    base_path = None\n",
    "    batch_size = None\n",
    "\n",
    "    def __init__(self, data_file, batch_size=64):\n",
    "        self.batch_size = batch_size\n",
    "        self.base_path = data_file.rsplit(\"/\", 1)[0]\n",
    "        lines = []\n",
    "        with open(data_file) as csv_file:\n",
    "            reader = csv.reader(csv_file)\n",
    "            for line in reader:\n",
    "                lines.append(line)\n",
    "        lines = lines[1:]\n",
    "        self.lines_train, self.lines_test = train_test_split(lines, test_size=0.2)\n",
    "        self.train_size = len(self.lines_train)\n",
    "        self.test_size = len(self.lines_test)\n",
    "        self.n = len(lines)\n",
    "        self.image_shape = cv2.imread(self.base_path + \"/\" + lines[0][0].strip()).shape\n",
    "\n",
    "\n",
    "    def __generate(self, lines):\n",
    "        while True:\n",
    "            shuffle(lines)\n",
    "            for offset in range(0, len(lines), self.batch_size):\n",
    "                batch = lines[offset: offset + self.batch_size]\n",
    "                \n",
    "                views = []\n",
    "                steers = []\n",
    "                for line in batch:\n",
    "                  \n",
    "                    view = [cv2.imread(self.base_path + \"/\" + (line[i].strip())) for i in range(3)]\n",
    "                    steer = [float(line[3]),0.25+float(line[3]),float(line[3])-0.25]\n",
    "                    \n",
    "                    for img in list(view):\n",
    "                      view.append(np.fliplr(img))\n",
    "                      \n",
    "                    for angle in list(steer):\n",
    "                      steer.append(-angle)\n",
    "                      \n",
    "                    index = np.zeros(len(view))\n",
    "                    if len(views) > 0:\n",
    "                        index = [random.randrange(0, len(views)+i) for i in range(len(index))]  \n",
    "                        \n",
    "                    for i in range(len(index)):\n",
    "                      views.insert(int(index[i]), view[i])\n",
    "                      steers.insert(int(index[i]), steer[i])\n",
    "                      \n",
    "                \n",
    "                views = views[:len(lines)]\n",
    "                steers = steers[:len(lines)]             \n",
    "\n",
    "                X = np.array(views)\n",
    "                y = np.array(steers)\n",
    "                gc.collect()\n",
    "                yield X, y\n",
    "\n",
    "    def for_training(self):\n",
    "        if self.gen_train is None:\n",
    "            self.gen_train = self.__generate(self.lines_train)\n",
    "        return self.gen_train\n",
    "\n",
    "    def for_testing(self):\n",
    "        if self.gen_test is None:\n",
    "            self.gen_test = self.__generate(self.lines_test)\n",
    "        return self.gen_test"
   ]
  },
  {
   "cell_type": "code",
   "execution_count": 60,
   "metadata": {
    "id": "AgZUA-nBRhHi",
    "colab_type": "code",
    "colab": {
     "autoexec": {
      "startup": false,
      "wait_interval": 0.0
     },
     "output_extras": [
      {
       "item_id": 1.0
      },
      {
       "item_id": 307.0
      }
     ],
     "base_uri": "https://localhost:8080/",
     "height": 232.0
    },
    "outputId": "a5023929-2975-4f64-aaf6-e2c0714e5ced",
    "executionInfo": {
     "status": "ok",
     "timestamp": 1.520067166234E12,
     "user_tz": -330.0,
     "elapsed": 321595.0,
     "user": {
      "displayName": "Trijeet Modak",
      "photoUrl": "//lh5.googleusercontent.com/-qIbE8Z4Hng0/AAAAAAAAAAI/AAAAAAAAAf8/jYgwkubgbYk/s50-c-k-no/photo.jpg",
      "userId": "102805649547285129830"
     }
    }
   },
   "outputs": [
    {
     "name": "stderr",
     "output_type": "stream",
     "text": [
      "/usr/local/lib/python3.6/dist-packages/ipykernel_launcher.py:34: UserWarning: Update your `Conv2D` call to the Keras 2 API: `Conv2D(24, (5, 5), activation=\"relu\", strides=(2, 2), padding=\"valid\")`\n",
      "/usr/local/lib/python3.6/dist-packages/ipykernel_launcher.py:35: UserWarning: Update your `Conv2D` call to the Keras 2 API: `Conv2D(36, (5, 5), activation=\"relu\", strides=(2, 2), padding=\"valid\")`\n",
      "/usr/local/lib/python3.6/dist-packages/ipykernel_launcher.py:36: UserWarning: Update your `Conv2D` call to the Keras 2 API: `Conv2D(48, (5, 5), activation=\"relu\", strides=(2, 2), padding=\"valid\")`\n",
      "/usr/local/lib/python3.6/dist-packages/ipykernel_launcher.py:37: UserWarning: Update your `Conv2D` call to the Keras 2 API: `Conv2D(64, (3, 3), activation=\"relu\", strides=(1, 1), padding=\"valid\")`\n",
      "/usr/local/lib/python3.6/dist-packages/ipykernel_launcher.py:38: UserWarning: Update your `Conv2D` call to the Keras 2 API: `Conv2D(64, (3, 3), activation=\"relu\", strides=(1, 1), padding=\"valid\")`\n"
     ]
    },
    {
     "name": "stdout",
     "output_type": "stream",
     "text": [
      "Epoch 1/3\n",
      "101/100 [==============================] - 112s 1s/step - loss: 0.0282 - val_loss: 0.0235\n",
      "Epoch 2/3\n",
      "101/100 [==============================] - 102s 1s/step - loss: 0.0233 - val_loss: 0.0220\n",
      "Epoch 3/3\n",
      "101/100 [==============================] - 102s 1s/step - loss: 0.0221 - val_loss: 0.0215\n"
     ]
    }
   ],
   "source": [
    "dataset = DataSet(\"./CarND-Behavioral-Cloning-P3/data/driving_log.csv\")\n",
    "\n",
    "from keras.callbacks import ModelCheckpoint\n",
    "from keras.models import Sequential, Model\n",
    "from keras.layers import Dense, Flatten, Lambda, Dropout, Cropping2D, Activation, Merge, Input, ELU\n",
    "from keras.layers.convolutional import Convolution2D\n",
    "from keras.layers.core import *\n",
    "from keras.models import Model\n",
    "from keras.layers.merge import concatenate\n",
    "\n",
    "def nvidia_functional():\n",
    "    imagein = Input(shape=dataset.image_shape)\n",
    "    layer = Cropping2D(cropping=((70, 20), (0, 0)))(imagein)\n",
    "    layer = Lambda(lambda x: (x / 127.5) - 1)(layer)\n",
    "    layer = Convolution2D(24, 5, 5, border_mode='valid', activation='relu', subsample=(2, 2))(layer)\n",
    "    layer = Convolution2D(36, 5, 5, border_mode='valid', activation='relu', subsample=(2, 2))(layer)\n",
    "    layer = Convolution2D(48, 5, 5, border_mode='valid', activation='relu', subsample=(2, 2))(layer)\n",
    "    layer = Convolution2D(64, 3, 3, border_mode='valid', activation='relu', subsample=(1, 1))(layer)\n",
    "    layer = Convolution2D(64, 3, 3, border_mode='valid', activation='relu', subsample=(1, 1))(layer)\n",
    "    layer = Flatten()(layer)\n",
    "    layer = Dense(100, activation=\"elu\")(layer)\n",
    "    layer = Dropout(0.5)(layer)\n",
    "    layer = Dense(50, activation=\"elu\")(layer)\n",
    "    layer = Dropout(0.5)(layer)\n",
    "    layer = Dense(10)(layer)\n",
    "    steerout = Dense(1)(layer)\n",
    "    model = Model(inputs=imagein, outputs=steerout)\n",
    "    return model\n",
    "\n",
    "def nvidia_sequential():\n",
    "    model = Sequential()\n",
    "    model.add(Cropping2D(cropping=((70, 25), (0, 0)), input_shape=dataset.image_shape))\n",
    "    model.add(Lambda(lambda x: (x / 127.5) - 1))\n",
    "    model.add(Convolution2D(24, 5, 5, border_mode='valid', activation='relu', subsample=(2, 2)))\n",
    "    model.add(Convolution2D(36, 5, 5, border_mode='valid', activation='relu', subsample=(2, 2)))\n",
    "    model.add(Convolution2D(48, 5, 5, border_mode='valid', activation='relu', subsample=(2, 2)))\n",
    "    model.add(Convolution2D(64, 3, 3, border_mode='valid', activation='relu', subsample=(1, 1)))\n",
    "    model.add(Convolution2D(64, 3, 3, border_mode='valid', activation='relu', subsample=(1, 1)))\n",
    "    model.add(Flatten())\n",
    "    model.add(Dense(100, activation=\"elu\"))\n",
    "    model.add(Dropout(0.5))\n",
    "    model.add(Dense(50, activation=\"elu\"))\n",
    "    model.add(Dropout(0.5))\n",
    "    model.add(Dense(10))\n",
    "    model.add(Dense(1))\n",
    "    return model\n",
    "  \n",
    "def comma_ai():\n",
    "    model = Sequential()\n",
    "    model.add(Cropping2D(cropping=((70, 25), (0, 0)), input_shape=dataset.image_shape))\n",
    "    model.add(Lambda(lambda x: x/127.5 - 1.0))\n",
    "    model.add(Convolution2D(16, 8, 8, subsample=(4, 4), border_mode=\"same\"))\n",
    "    model.add(ELU())\n",
    "    model.add(Convolution2D(32, 5, 5, subsample=(2, 2), border_mode=\"same\"))\n",
    "    model.add(ELU())\n",
    "    model.add(Convolution2D(64, 5, 5, subsample=(2, 2), border_mode=\"same\"))\n",
    "    model.add(Flatten())\n",
    "    model.add(Dropout(.2))\n",
    "    model.add(ELU())\n",
    "    model.add(Dense(512))\n",
    "    model.add(Dropout(.5))\n",
    "    model.add(ELU())\n",
    "    model.add(Dense(1))\n",
    "    return model\n",
    "  \n",
    "model = nvidia_sequential()\n",
    "model.compile(optimizer=\"adam\", loss=\"mse\")\n",
    "model.fit_generator(generator=dataset.for_training(),\n",
    "                    steps_per_epoch=dataset.train_size / dataset.batch_size,\n",
    "                    validation_data=dataset.for_testing(),\n",
    "                    validation_steps=dataset.test_size / dataset.batch_size,\n",
    "                    epochs=3)\n",
    "\n",
    "model.save('./CarND-Behavioral-Cloning-P3/model.h5')"
   ]
  },
  {
   "cell_type": "code",
   "execution_count": 56,
   "metadata": {
    "id": "aBYP8uDPWhC8",
    "colab_type": "code",
    "colab": {
     "autoexec": {
      "startup": false,
      "wait_interval": 0.0
     },
     "output_extras": [
      {
       "item_id": 289.0
      },
      {
       "item_id": 290.0
      }
     ],
     "base_uri": "https://localhost:8080/",
     "height": 141.0
    },
    "outputId": "cb9fa623-51b7-41c4-8df6-f8b0005c2789",
    "executionInfo": {
     "status": "ok",
     "timestamp": 1.520066041233E12,
     "user_tz": -330.0,
     "elapsed": 305377.0,
     "user": {
      "displayName": "Trijeet Modak",
      "photoUrl": "//lh5.googleusercontent.com/-qIbE8Z4Hng0/AAAAAAAAAAI/AAAAAAAAAf8/jYgwkubgbYk/s50-c-k-no/photo.jpg",
      "userId": "102805649547285129830"
     }
    }
   },
   "outputs": [
    {
     "name": "stdout",
     "output_type": "stream",
     "text": [
      "Epoch 1/3\n",
      "101/100 [==============================] - 103s 1s/step - loss: 0.0308 - val_loss: 0.0259\n",
      "Epoch 2/3\n",
      "101/100 [==============================] - 97s 961ms/step - loss: 0.0290 - val_loss: 0.0253\n",
      "Epoch 3/3\n",
      "101/100 [==============================] - 97s 963ms/step - loss: 0.0274 - val_loss: 0.0245\n"
     ]
    },
    {
     "data": {
      "text/plain": [
       "<keras.callbacks.History at 0x7f782006ce10>"
      ]
     },
     "execution_count": 56,
     "metadata": {
      "tags": []
     },
     "output_type": "execute_result"
    }
   ],
   "source": [
    "from keras.models import load_model\n",
    "model = load_model('./CarND-Behavioral-Cloning-P3/model.h5')\n",
    "model.fit_generator(generator=dataset.for_training(),\n",
    "                    steps_per_epoch=dataset.train_size / dataset.batch_size,\n",
    "                    validation_data=dataset.for_testing(),\n",
    "                    validation_steps=dataset.test_size / dataset.batch_size,\n",
    "                    epochs=3)\n",
    "\n"
   ]
  },
  {
   "cell_type": "code",
   "execution_count": 0,
   "metadata": {
    "id": "XpBIzp32WlBE",
    "colab_type": "code",
    "colab": {
     "autoexec": {
      "startup": false,
      "wait_interval": 0.0
     }
    }
   },
   "outputs": [],
   "source": [
    "# DOWNLOAD TRAINED MODEL FROM GOOGLE COLAB\n",
    "model.save('./CarND-Behavioral-Cloning-P3/model.h5')\n",
    "from google.colab import files\n",
    "files.download('./CarND-Behavioral-Cloning-P3/model.h5')"
   ]
  }
 ],
 "metadata": {
  "colab": {
   "name": "Untitled0.ipynb",
   "version": "0.3.2",
   "views": {},
   "default_view": {},
   "provenance": [],
   "collapsed_sections": []
  },
  "kernelspec": {
   "name": "python3",
   "display_name": "Python 3"
  },
  "accelerator": "GPU"
 },
 "nbformat": 4,
 "nbformat_minor": 0
}
